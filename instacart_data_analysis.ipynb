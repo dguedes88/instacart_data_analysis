{
 "cells": [
  {
   "cell_type": "markdown",
   "id": "3Xg_RQfnafXz",
   "metadata": {
    "id": "3Xg_RQfnafXz"
   },
   "source": [
    "\n",
    "\n",
    "\n",
    "# Vamos encher o carrinho!"
   ]
  },
  {
   "cell_type": "markdown",
   "id": "mhIvmmkW414q",
   "metadata": {
    "id": "mhIvmmkW414q"
   },
   "source": [
    "# Introdução\n",
    "\n",
    "A Instacart é uma plataforma de entrega de supermercado onde os clientes podem fazer um pedido de supermercado e receber a compra em casa, semelhante ao funcionamento do Uber Eats e do iFood. O conjunto de dados que fornecemos a você foi modificado do original. Reduzimos o tamanho do conjunto de dados para que seus cálculos sejam executados mais rapidamente e introduzimos valores ausentes e duplicados. Também tivemos o cuidado de preservar as distribuições dos dados originais quando fizemos as alterações.\n",
    "\n",
    "Você precisa completar três etapas. Para cada uma delas, escreva uma breve introdução descrevendo como você pretende concluir a etapa e justifique suas decisões em parágrafos explicativos intermédios a medida que você avança na solução. Escreva também uma conclusão para resumir suas conclusões e escolhas.\n",
    "\n"
   ]
  },
  {
   "cell_type": "markdown",
   "id": "3MbyzpOQZ5Or",
   "metadata": {
    "id": "3MbyzpOQZ5Or"
   },
   "source": [
    "## Dicionário de dados\n",
    "\n",
    "Há cinco tabelas no conjunto de dados, e você vai precisar usar todas elas para pré-processar os dados e fazer a AED. Abaixo está um dicionário que lista as colunas de cada tabela e descreve os dados contidos nelas.\n",
    "\n",
    "- `instacart_orders.csv`: cada linha corresponde a um pedido no aplicativo da Instacart\n",
    "    - `'order_id'`: é o número de identificação unívoco de cada pedido\n",
    "    - `'user_id'`: é o número de identificação unívoco da conta de cada cliente\n",
    "    - `'order_number'`: é o número de vezes que o cliente fez um pedido\n",
    "    - `'order_dow'`: é o dia da semana em que o pedido foi feito (0 é domingo)\n",
    "    - `'order_hour_of_day'`: é a hora do dia em que o pedido foi feito\n",
    "    - `'days_since_prior_order'`: é o número de dias desde que o cliente fez seu pedido anterior\n",
    "\n",
    "\n",
    "\n",
    "\n",
    "- `products.csv`: cada linha corresponde a um produto unívoco que os clientes podem comprar\n",
    "    - `'product_id'`: é o número de identificação unívoco de cada produto\n",
    "    - `'product_name'`: é o nome do produto\n",
    "    - `'aisle_id'`: é o número de identificação unívoco de cada categoria de seção do supermercado\n",
    "    - `'department_id'`: é o número de identificação unívoco de cada categoria de departamento do supermercado\n",
    "\n",
    "\n",
    "\n",
    "\n",
    "-\t`order_products.csv`: cada linha corresponde a um item incluído em um pedido\n",
    "    -\t`'order_id'`: é o número de identificação unívoco de cada pedido\n",
    "    -\t`'product_id'`: é o número de identificação unívoco de cada produto\n",
    "    -\t`'add_to_cart_order'`: é a ordem sequencial em que cada item foi colocado no carrinho\n",
    "    -\t`'reordered'`: 0 se o cliente nunca comprou o produto antes, 1 se já o comprou\n",
    "\n",
    "\n",
    "\n",
    "\n",
    "-\t`aisles.csv`\n",
    "    -\t`'aisle_id'`: é o número de identificação unívoco de cada categoria de seção do supermercado\n",
    "    -\t`'aisle'`: é o nome da seção\n",
    "\n",
    "\n",
    "\n",
    "-\t`departments.csv`\n",
    "    -\t`'department_id'`: é o número de identificação unívoco de cada categoria de departamento do supermercado\n",
    "    -\t`'department'`: é o nome do departamento\n"
   ]
  },
  {
   "cell_type": "markdown",
   "id": "n3Ha_cNSZ8lK",
   "metadata": {
    "id": "n3Ha_cNSZ8lK"
   },
   "source": [
    "# Etapa 1. Visão geral dos dados\n",
    "\n",
    "Leia os arquivos de dados (/datasets/instacart_orders.csv, /datasets/products.csv, /datasets/aisles.csv, /datasets/departments.csv e /datasets/order_products.csv) com `pd.read_csv()` usando os parâmetros apropriados para fazer isso corretamente. Verifique as informações para cada DataFrame criado.\n"
   ]
  },
  {
   "cell_type": "markdown",
   "id": "OmlQPLlyaAfR",
   "metadata": {
    "id": "OmlQPLlyaAfR"
   },
   "source": [
    "## Plano de solução\n",
    "\n",
    "Escreva aqui seu plano para a Etapa 2. Visão geral dos dados\n",
    "\n",
    "<i style=\"color:darkblue;\">Para a visão geral dos dados da Instacart, iniciar importando pandas para carregar os cinco CSV. Em seguida, fazer uma verificação preliminar dos DataFrames afim de entender a estrutura, tipos de dados e entre outras informações. Identificar inconsistências, como valores ausentes e linhas duplicadas e elaborar um plano para tratar essas inconsistências. Visualizar distribuição dos pedidos e frequência de compras. Concluir com um resumo das descobertas e deixar tudo preparado para o pré-processamento e análise exploratória de dados.</i>"
   ]
  },
  {
   "cell_type": "code",
   "execution_count": 1,
   "id": "fbf1adab",
   "metadata": {
    "id": "fbf1adab"
   },
   "outputs": [],
   "source": [
    "# Importe as bibliotecas\n",
    "import pandas as pd\n",
    "import matplotlib.pyplot as plt\n",
    "import numpy as np"
   ]
  },
  {
   "cell_type": "code",
   "execution_count": 2,
   "id": "ad36396d",
   "metadata": {
    "id": "ad36396d"
   },
   "outputs": [],
   "source": [
    "# leia os conjuntos de dados em DataFrames\n",
    "orders = pd.read_csv('/datasets/instacart_orders.csv', sep=';')\n",
    "\n",
    "products = pd.read_csv('/datasets/products.csv', sep=';')\n",
    "\n",
    "aisles = pd.read_csv('/datasets/aisles.csv', sep=';')\n",
    "\n",
    "departments = pd.read_csv('/datasets/departments.csv', sep=';')\n",
    "\n",
    "order_products = pd.read_csv('/datasets/order_products.csv', sep=';')"
   ]
  },
  {
   "cell_type": "code",
   "execution_count": 3,
   "id": "ad6a1efa",
   "metadata": {
    "id": "ad6a1efa"
   },
   "outputs": [
    {
     "name": "stdout",
     "output_type": "stream",
     "text": [
      "Informações sobre o DataFrame \"orders\":\n",
      "\n",
      "<class 'pandas.core.frame.DataFrame'>\n",
      "RangeIndex: 478967 entries, 0 to 478966\n",
      "Data columns (total 6 columns):\n",
      " #   Column                  Non-Null Count   Dtype  \n",
      "---  ------                  --------------   -----  \n",
      " 0   order_id                478967 non-null  int64  \n",
      " 1   user_id                 478967 non-null  int64  \n",
      " 2   order_number            478967 non-null  int64  \n",
      " 3   order_dow               478967 non-null  int64  \n",
      " 4   order_hour_of_day       478967 non-null  int64  \n",
      " 5   days_since_prior_order  450148 non-null  float64\n",
      "dtypes: float64(1), int64(5)\n",
      "memory usage: 21.9 MB\n",
      "None\n"
     ]
    }
   ],
   "source": [
    "# imprima as informações sobre o DataFrame\n",
    "print('Informações sobre o DataFrame \"orders\":')\n",
    "print()\n",
    "print(orders.info())"
   ]
  },
  {
   "cell_type": "code",
   "execution_count": 4,
   "id": "5130e05e",
   "metadata": {
    "id": "5130e05e"
   },
   "outputs": [
    {
     "name": "stdout",
     "output_type": "stream",
     "text": [
      "Informações sobre o DataFrame \"products\":\n",
      "\n",
      "<class 'pandas.core.frame.DataFrame'>\n",
      "RangeIndex: 49694 entries, 0 to 49693\n",
      "Data columns (total 4 columns):\n",
      " #   Column         Non-Null Count  Dtype \n",
      "---  ------         --------------  ----- \n",
      " 0   product_id     49694 non-null  int64 \n",
      " 1   product_name   48436 non-null  object\n",
      " 2   aisle_id       49694 non-null  int64 \n",
      " 3   department_id  49694 non-null  int64 \n",
      "dtypes: int64(3), object(1)\n",
      "memory usage: 1.5+ MB\n",
      "None\n",
      "\n",
      "<class 'pandas.core.frame.DataFrame'>\n",
      "RangeIndex: 49694 entries, 0 to 49693\n",
      "Data columns (total 4 columns):\n",
      " #   Column         Non-Null Count  Dtype \n",
      "---  ------         --------------  ----- \n",
      " 0   product_id     49694 non-null  int64 \n",
      " 1   product_name   48436 non-null  object\n",
      " 2   aisle_id       49694 non-null  int64 \n",
      " 3   department_id  49694 non-null  int64 \n",
      "dtypes: int64(3), object(1)\n",
      "memory usage: 1.5+ MB\n",
      "None\n"
     ]
    }
   ],
   "source": [
    "# imprima as informações sobre o DataFrame\n",
    "print('Informações sobre o DataFrame \"products\":')\n",
    "print()\n",
    "print(products.info())\n",
    "print()\n",
    "\n",
    "products['product_id'] = pd.to_numeric(products['product_id'], errors='coerce')\n",
    "print(products.info())"
   ]
  },
  {
   "cell_type": "code",
   "execution_count": 5,
   "id": "d8370c05",
   "metadata": {
    "id": "d8370c05"
   },
   "outputs": [
    {
     "name": "stdout",
     "output_type": "stream",
     "text": [
      "Informações sobre o DataFrame \"aisles\":\n",
      "\n",
      "<class 'pandas.core.frame.DataFrame'>\n",
      "RangeIndex: 134 entries, 0 to 133\n",
      "Data columns (total 2 columns):\n",
      " #   Column    Non-Null Count  Dtype \n",
      "---  ------    --------------  ----- \n",
      " 0   aisle_id  134 non-null    int64 \n",
      " 1   aisle     134 non-null    object\n",
      "dtypes: int64(1), object(1)\n",
      "memory usage: 2.2+ KB\n",
      "None\n"
     ]
    }
   ],
   "source": [
    "# imprima as informações sobre o DataFrame\n",
    "print('Informações sobre o DataFrame \"aisles\":')\n",
    "print()\n",
    "print(aisles.info())"
   ]
  },
  {
   "cell_type": "code",
   "execution_count": 6,
   "id": "59e2090f",
   "metadata": {
    "id": "59e2090f"
   },
   "outputs": [
    {
     "name": "stdout",
     "output_type": "stream",
     "text": [
      "Informações sobre o DataFrame \"departments\":\n",
      "\n",
      "<class 'pandas.core.frame.DataFrame'>\n",
      "RangeIndex: 21 entries, 0 to 20\n",
      "Data columns (total 2 columns):\n",
      " #   Column         Non-Null Count  Dtype \n",
      "---  ------         --------------  ----- \n",
      " 0   department_id  21 non-null     int64 \n",
      " 1   department     21 non-null     object\n",
      "dtypes: int64(1), object(1)\n",
      "memory usage: 464.0+ bytes\n",
      "None\n"
     ]
    }
   ],
   "source": [
    "# imprima as informações sobre o DataFrame\n",
    "print('Informações sobre o DataFrame \"departments\":')\n",
    "print()\n",
    "print(departments.info())"
   ]
  },
  {
   "cell_type": "code",
   "execution_count": 7,
   "id": "6fc81694",
   "metadata": {
    "id": "6fc81694"
   },
   "outputs": [
    {
     "name": "stdout",
     "output_type": "stream",
     "text": [
      "Informações sobre o DataFrame \"order_products\":\n",
      "\n",
      "<class 'pandas.core.frame.DataFrame'>\n",
      "RangeIndex: 4545007 entries, 0 to 4545006\n",
      "Data columns (total 4 columns):\n",
      " #   Column             Dtype  \n",
      "---  ------             -----  \n",
      " 0   order_id           int64  \n",
      " 1   product_id         int64  \n",
      " 2   add_to_cart_order  float64\n",
      " 3   reordered          int64  \n",
      "dtypes: float64(1), int64(3)\n",
      "memory usage: 138.7 MB\n",
      "None\n"
     ]
    }
   ],
   "source": [
    "# imprima as informações sobre o DataFrame\n",
    "print('Informações sobre o DataFrame \"order_products\":')\n",
    "print()\n",
    "print(order_products.info())"
   ]
  },
  {
   "cell_type": "markdown",
   "id": "t75BD19oaR5f",
   "metadata": {
    "id": "t75BD19oaR5f"
   },
   "source": [
    "## Conclusões\n",
    "\n",
    "Escreva aqui suas conclusões intermediárias da Etapa 1. Visão geral dos dados\n",
    "\n",
    "<i style=\"color:darkblue;\">Nesta primeira Etapa, é analisado o conjunto de dados da <b>Instacart</b>. Valores ausentes em `days_since_prior_order` e `product_name` foram identificados, indicando a necessidade de tratamento. Os tipos de dados parecem adequados, mas ajustes podem ser feitos, como converter `days_since_prior_order` para `int64`. Também verificou-se a necessidade de converter `'product_id'` do DataFrame `product` para numérico, pois o mesmo estava em tipo `object`. Os dados estão preparados para análise exploratória, planejando tratar valores ausentes e explorar relações entre tabelas. Questões analíticas surgem, incluindo padrões de pedidos ao longo do tempo e a influência de dias desde o último pedido na reordenação. Há a necessidade de abordagem cuidadosa na próxima etapa para insights mais profundos e modelagem eficaz.</i>"
   ]
  },
  {
   "cell_type": "markdown",
   "id": "8RJHqxVmaVsF",
   "metadata": {
    "id": "8RJHqxVmaVsF"
   },
   "source": [
    "# Etapa 2. Preparação de dados\n",
    "\n",
    "Faça o pré-processamento dos dados da seguinte maneira:\n",
    "\n",
    "-\tVerifique e corrija os tipos de dados (por exemplo, certifique-se de que as colunas de ID sejam números inteiros)\n",
    "-\tIdentifique e preencha valores ausentes\n",
    "-\tIdentifique e remova valores duplicados\n",
    "\n",
    "Certifique-se de explicar que tipos de valores ausentes e duplicados você encontrou, como você os preencheu ou removeu, por que escolheu esses métodos e por que você acha que esses valores ausentes e duplicados estavam presentes no conjunto de dados."
   ]
  },
  {
   "cell_type": "markdown",
   "id": "p6poABZQaZYb",
   "metadata": {
    "id": "p6poABZQaZYb"
   },
   "source": [
    "## Plano de solução\n",
    "\n",
    "Escreva aqui seu plano para a Etapa 2. Preparação de dados\n",
    "\n",
    "<i style=\"color:darkblue;\">Nesta etapa, o plano é realizar correções nos tipos de dados, tratamento de valores ausentes e remoção de duplicatas. Garantir que as colunas de ID sejam inteiras, considerando a conversão da coluna `'days_since_prior_order'` para inteiro. Para valores ausentes, preencher a coluna `'days_since_prior_order'` em `orders` com a média ou zero, dependendo do contexto. Em `products`, examinar os valores nulos em `'product_name'` e decidir se serão removidas as linhas ou se preencher de maneira apropriada. Quanto às duplicatas, concentrar em `order_products`, garantindo que a remoção seja feita sem prejudicar análises subsequentes. Todas as escolhas metodológicas serão justificadas com base na natureza dos dados e nos objetivos analíticos, buscando preparar os dados para análises mais aprofundadas e modelos futuros. O foco é garantir consistência e confiabilidade nos dados, mantendo a integridade e relevância para o projeto.</i>"
   ]
  },
  {
   "cell_type": "markdown",
   "id": "07357848-dc64-4156-9cc3-01ff4365226d",
   "metadata": {
    "id": "07357848-dc64-4156-9cc3-01ff4365226d"
   },
   "source": [
    "## Encontre e remova valores duplicados (e descreva por que você está fazendo suas escolhas)"
   ]
  },
  {
   "cell_type": "markdown",
   "id": "f179f0a9",
   "metadata": {
    "id": "f179f0a9"
   },
   "source": [
    "### DataFrame `orders`"
   ]
  },
  {
   "cell_type": "code",
   "execution_count": 8,
   "id": "b99297a5-405a-463d-8535-9adc3da4ad74",
   "metadata": {
    "id": "b99297a5-405a-463d-8535-9adc3da4ad74"
   },
   "outputs": [
    {
     "name": "stdout",
     "output_type": "stream",
     "text": [
      "        order_id  user_id  order_number  order_dow  order_hour_of_day  \\\n",
      "145574    794638    50898            24          3                  2   \n",
      "223105   2160484   107525            16          3                  2   \n",
      "230807   1918001   188546            14          3                  2   \n",
      "266232   1782114   106752             1          3                  2   \n",
      "273805   1112182   202304            84          3                  2   \n",
      "284038   2845099    31189            11          3                  2   \n",
      "311713   1021560    53767             3          3                  2   \n",
      "321100    408114    68324             4          3                  2   \n",
      "323900   1919531   191501            32          3                  2   \n",
      "345917   2232988    82565             1          3                  2   \n",
      "371905    391768    57671            19          3                  2   \n",
      "394347    467134    63189            21          3                  2   \n",
      "411408   1286742   183220            48          3                  2   \n",
      "415163   2282673    86751            49          3                  2   \n",
      "441599   2125197    14050            48          3                  2   \n",
      "\n",
      "        days_since_prior_order  \n",
      "145574                     2.0  \n",
      "223105                    30.0  \n",
      "230807                    16.0  \n",
      "266232                     NaN  \n",
      "273805                     6.0  \n",
      "284038                     7.0  \n",
      "311713                     9.0  \n",
      "321100                    18.0  \n",
      "323900                     7.0  \n",
      "345917                     NaN  \n",
      "371905                    10.0  \n",
      "394347                     2.0  \n",
      "411408                     4.0  \n",
      "415163                     2.0  \n",
      "441599                     3.0  \n",
      "Número de linhas duplicadas: 15\n"
     ]
    }
   ],
   "source": [
    "# Verificar se há pedidos duplicados\n",
    "duplicates_orders = orders[orders.duplicated()]\n",
    "\n",
    "print(duplicates_orders)\n",
    "print(f'Número de linhas duplicadas: {len(duplicates_orders)}')"
   ]
  },
  {
   "cell_type": "markdown",
   "id": "PEkwUX_gvt5A",
   "metadata": {
    "id": "PEkwUX_gvt5A"
   },
   "source": [
    "Há linhas duplicadas? Se sim, o que elas têm em comum?\n",
    "\n",
    "<i style=\"color:darkblue;\">Foram identificadas 15 linhas duplicadas no DataFrame `orders`, evidenciando entradas idênticas em todas as linhas. Essas duplicatas podem indicar registros incorretos ou repetições indevidas. A decisão de remoção ou manutenção dessas duplicatas depende do contexto específico; se refletirem entradas errôneas, a remoção é apropriada. O processo de remoção será realizado usando `.drop_duplicates()`. Essa abordagem visa garantir que análises subsequentes se baseiem em dados confiáveis e únicos, mantendo a integridade do conjunto de dados da <b>Instacart</b>.</i>"
   ]
  },
  {
   "cell_type": "code",
   "execution_count": 9,
   "id": "0d44de5d",
   "metadata": {
    "id": "0d44de5d"
   },
   "outputs": [
    {
     "name": "stdout",
     "output_type": "stream",
     "text": [
      "        order_id  user_id  order_number  order_dow  order_hour_of_day  \\\n",
      "1295     1474941   115569             5          2                  2   \n",
      "2391     1640269   173965            15          2                  2   \n",
      "2550     1223696    55276            11          2                  2   \n",
      "5965      579194    85018            14          2                  2   \n",
      "17680    2004230   203121             4          2                  2   \n",
      "...          ...      ...           ...        ...                ...   \n",
      "457660   1562381    19378             5          2                  2   \n",
      "460316   1986084   117453            81          2                  2   \n",
      "462676   1362113    19654            20          2                  2   \n",
      "472800   1746383    88484            19          2                  2   \n",
      "472923   1519815   149345             1          2                  2   \n",
      "\n",
      "        days_since_prior_order  \n",
      "1295                      28.0  \n",
      "2391                       2.0  \n",
      "2550                      30.0  \n",
      "5965                      11.0  \n",
      "17680                      8.0  \n",
      "...                        ...  \n",
      "457660                     6.0  \n",
      "460316                     8.0  \n",
      "462676                    21.0  \n",
      "472800                     5.0  \n",
      "472923                     NaN  \n",
      "\n",
      "[136 rows x 6 columns]\n"
     ]
    }
   ],
   "source": [
    "# Com base nas suas conclusões,\n",
    "\n",
    "# verifique todos os pedidos feitos às 2h da manhã nas quartas-feiras\n",
    "\n",
    "wednesday_2h = orders[(orders['order_dow'] == 2) & (orders['order_hour_of_day'] == 2)]\n",
    "\n",
    "print(wednesday_2h)"
   ]
  },
  {
   "cell_type": "markdown",
   "id": "vu2OWyoqwOx5",
   "metadata": {
    "id": "vu2OWyoqwOx5"
   },
   "source": [
    "O que esse resultado quer dizer?\n",
    "\n",
    "<i style=\"color:darkblue;\">A variável `wednesday_2h` exibe 136 pedidos feitos às 2h da manhã nas quartas-feiras. Esses dados possibilitam análises mais aprofundadas sobre padrões de pedidos específicos, comportamento dos usuários nesse horário e demandas específicas durante as quartas-feiras. A identificação desses pedidos proporciona percepções valiosas para otimizar estratégias de atendimento e entender melhor o comportamento dos clientes em determinados momentos do dia.</i>"
   ]
  },
  {
   "cell_type": "code",
   "execution_count": 10,
   "id": "480563c7",
   "metadata": {
    "id": "480563c7"
   },
   "outputs": [
    {
     "name": "stdout",
     "output_type": "stream",
     "text": [
      "Quantidade de linhas após a remoção de duplicatas: 478952\n"
     ]
    }
   ],
   "source": [
    "# Remova pedidos duplicados\n",
    "orders.drop_duplicates(inplace=True)\n",
    "orders.reset_index(drop=True, inplace=True)\n",
    "\n",
    "print(f'Quantidade de linhas após a remoção de duplicatas: {len(orders)}')"
   ]
  },
  {
   "cell_type": "code",
   "execution_count": 11,
   "id": "0b2396a2",
   "metadata": {
    "id": "0b2396a2"
   },
   "outputs": [
    {
     "name": "stdout",
     "output_type": "stream",
     "text": [
      "Verificação de linhas duplicatas: 0\n"
     ]
    }
   ],
   "source": [
    "# Verifique as linhas duplicadas mais uma vez\n",
    "duplicates_after_removal = orders[orders.duplicated()]\n",
    "\n",
    "print(f'Verificação de linhas duplicatas: {len(duplicates_after_removal)}')"
   ]
  },
  {
   "cell_type": "code",
   "execution_count": 12,
   "id": "f6113ef1",
   "metadata": {
    "id": "f6113ef1"
   },
   "outputs": [
    {
     "name": "stdout",
     "output_type": "stream",
     "text": [
      "IDs de pedidos duplicados: 0\n"
     ]
    }
   ],
   "source": [
    "# Verifique novamente apenas os IDs de pedidos duplicados\n",
    "duplicated_order_ids = duplicates_after_removal['order_id'].unique()\n",
    "\n",
    "print(f'IDs de pedidos duplicados: {len(duplicated_order_ids)}')"
   ]
  },
  {
   "cell_type": "markdown",
   "id": "5e8905ae",
   "metadata": {
    "id": "5e8905ae"
   },
   "source": [
    "\n",
    "\n",
    "Descreva brevemente suas conclusões e o que você fez com elas.\n",
    "\n",
    "<i style=\"color:darkblue;\">Após a remoção de pedidos duplicados no DataFrame `orders`, a quantidade de linhas foi reduzida de 478.966 para 478.952, indicando uma eliminação efetiva de duplicatas. A verificação subsequente confirmou a ausência de linhas duplicadas no conjunto de dados. Essa limpeza é crucial para garantir a integridade dos dados, proporcionando uma base sólida para análises mais aprofundadas.</i>"
   ]
  },
  {
   "cell_type": "markdown",
   "id": "45e6bc46",
   "metadata": {
    "id": "45e6bc46"
   },
   "source": [
    "### DataFrame `products`"
   ]
  },
  {
   "cell_type": "code",
   "execution_count": 13,
   "id": "5f526b5b-8175-46fa-a0fd-441767d50e64",
   "metadata": {
    "id": "5f526b5b-8175-46fa-a0fd-441767d50e64"
   },
   "outputs": [
    {
     "name": "stdout",
     "output_type": "stream",
     "text": [
      "Total de linhas duplicadas: 0\n"
     ]
    }
   ],
   "source": [
    "# Verifique se há linhas completamente duplicadas\n",
    "duplicated_products = products.duplicated()\n",
    "\n",
    "print(f'Total de linhas duplicadas: {duplicated_products.sum()}')"
   ]
  },
  {
   "cell_type": "code",
   "execution_count": 14,
   "id": "88daa4f4",
   "metadata": {
    "id": "88daa4f4"
   },
   "outputs": [
    {
     "name": "stdout",
     "output_type": "stream",
     "text": [
      "Total de IDs de departamento duplicados: 49673\n"
     ]
    }
   ],
   "source": [
    "# Verifique apenas se há IDs de departamentos duplicados\n",
    "duplicated_department_ids = products['department_id'].duplicated()\n",
    "\n",
    "print(f'Total de IDs de departamento duplicados: {duplicated_department_ids.sum()}')"
   ]
  },
  {
   "cell_type": "code",
   "execution_count": 15,
   "id": "c773f0bf",
   "metadata": {
    "id": "c773f0bf"
   },
   "outputs": [
    {
     "name": "stdout",
     "output_type": "stream",
     "text": [
      "Total de nomes de produtos duplicados: 1361\n"
     ]
    }
   ],
   "source": [
    "# Verifique apenas se há nomes de produtos duplicados (converta os nomes para minúsculas para uma comparação melhor)\n",
    "duplicated_product_names = products['product_name'].str.lower().duplicated().sum()\n",
    "\n",
    "print(f'Total de nomes de produtos duplicados: {duplicated_product_names}')"
   ]
  },
  {
   "cell_type": "code",
   "execution_count": 16,
   "id": "01efd02e",
   "metadata": {
    "id": "01efd02e"
   },
   "outputs": [
    {
     "name": "stdout",
     "output_type": "stream",
     "text": [
      "Total de nomes de produtos duplicados (não faltando): 104\n"
     ]
    }
   ],
   "source": [
    "# Verifique os nomes de produtos duplicados que não estão faltando\n",
    "products_not_missing = products.dropna(subset=['product_name'])\n",
    "duplicated_product_names_not_missing = products_not_missing['product_name'].str.lower().duplicated().sum()\n",
    "\n",
    "print(f'Total de nomes de produtos duplicados (não faltando): {duplicated_product_names_not_missing}')"
   ]
  },
  {
   "cell_type": "markdown",
   "id": "9da8d293",
   "metadata": {
    "id": "9da8d293"
   },
   "source": [
    "Descreva brevemente suas conclusões e o que você fez com elas.\n",
    "\n",
    "<i style=\"color:darkblue;\">A análise do DataFrame `products` revelou que não existem linhas completamente duplicadas, o que é um bom indicativo da qualidade dos dados nesse aspecto. No entanto, foram identificados 49.673 IDs de departamento duplicados, um resultado esperado dado que vários produtos podem pertencer ao mesmo departamento, indicando que essa duplicação não é um problema. Por outro lado, a análise mostrou 1.361 nomes de produtos duplicados ao considerar todos os nomes em minúsculas, sugerindo a existência de possíveis duplicatas que podem ter sido inseridos de forma ligeiramente diferente. Ao filtrar apenas os registros com nomes de produtos não faltantes, o número de duplicatas reduziu para 104, indicando que parte das duplicatas identificadas pode estar relacionada a registros incompletos ou a inconsistências nos dados. As conclusões apontam para a necessidade de uma revisão cuidadosa dos nomes de produtos duplicados para entender se representam o mesmo produto ou se são entradas distintas.</i>"
   ]
  },
  {
   "cell_type": "markdown",
   "id": "60f30db1",
   "metadata": {
    "id": "60f30db1"
   },
   "source": [
    "### DataFrame `departments`"
   ]
  },
  {
   "cell_type": "code",
   "execution_count": 17,
   "id": "fb410ad4-0fbf-4b80-bb09-23fdea79afe3",
   "metadata": {
    "id": "fb410ad4-0fbf-4b80-bb09-23fdea79afe3"
   },
   "outputs": [
    {
     "name": "stdout",
     "output_type": "stream",
     "text": [
      "Total de linhas duplicadas em DataFrame departments: 0\n"
     ]
    }
   ],
   "source": [
    "# Verifique se há linhas completamente duplicadas\n",
    "duplicated_departments = departments.duplicated()\n",
    "\n",
    "print(f\"Total de linhas duplicadas em DataFrame departments: {duplicated_departments.sum()}\")"
   ]
  },
  {
   "cell_type": "code",
   "execution_count": 18,
   "id": "332b12bb",
   "metadata": {
    "id": "332b12bb"
   },
   "outputs": [
    {
     "name": "stdout",
     "output_type": "stream",
     "text": [
      "Total de IDs de departamento duplicados: 0\n"
     ]
    }
   ],
   "source": [
    "# Verifique apenas se há IDs dos produtos duplicados\n",
    "duplicated_department_ids = departments['department_id'].duplicated()\n",
    "\n",
    "print(f'Total de IDs de departamento duplicados: {duplicated_department_ids.sum()}')"
   ]
  },
  {
   "cell_type": "markdown",
   "id": "bd30d78e",
   "metadata": {
    "id": "bd30d78e"
   },
   "source": [
    "Descreva brevemente suas conclusões e o que você fez com elas.\n",
    "\n",
    "<i style=\"color:darkblue;\">A análise do DataFrame `departments` mostrou ausência de duplicatas tanto em linhas inteiras quanto em IDs de departamento, indicando alta integridade e unicidade dos dados. Esse resultado é essencial para garantir a confiabilidade das informações, facilitando análises futuras e a gestão eficiente de categorias de produtos. Dessa forma, não há necessidade de ações corretivas para tratar duplicatas neste DataFrame.</i>"
   ]
  },
  {
   "cell_type": "markdown",
   "id": "889349c1",
   "metadata": {
    "id": "889349c1"
   },
   "source": [
    "### DataFrame `aisles`"
   ]
  },
  {
   "cell_type": "code",
   "execution_count": 19,
   "id": "9da89fb9-4679-40f5-ad0d-c34df753a3f8",
   "metadata": {
    "id": "9da89fb9-4679-40f5-ad0d-c34df753a3f8"
   },
   "outputs": [
    {
     "name": "stdout",
     "output_type": "stream",
     "text": [
      "Total de linhas duplicadas em DataFrame aisles: 0\n"
     ]
    }
   ],
   "source": [
    "# Verifique se há linhas completamente duplicadas\n",
    "duplicated_aisles = aisles.duplicated()\n",
    "print(f'Total de linhas duplicadas em DataFrame aisles: {duplicated_aisles.sum()}')"
   ]
  },
  {
   "cell_type": "code",
   "execution_count": 20,
   "id": "da7c2822",
   "metadata": {
    "id": "da7c2822"
   },
   "outputs": [
    {
     "name": "stdout",
     "output_type": "stream",
     "text": [
      "Total de IDs de aisle duplicados: 0\n"
     ]
    }
   ],
   "source": [
    "# Verifique apenas se há IDs dos produtos duplicados\n",
    "duplicated_aisle_ids = aisles['aisle_id'].duplicated()\n",
    "print(f'Total de IDs de aisle duplicados: {duplicated_aisle_ids.sum()}')"
   ]
  },
  {
   "cell_type": "markdown",
   "id": "ac63826f",
   "metadata": {
    "id": "ac63826f"
   },
   "source": [
    "Descreva brevemente suas conclusões e o que você fez com elas.\n",
    "\n",
    "<i style=\"color:darkblue;\">A análise do DataFrame `aisles` demonstrou a inexistência de linhas ou IDs duplicados, indicando alta integridade e unicidade nos dados das seções do supermercado. Essa qualidade dos dados é crucial para assegurar confiabilidade em análises futuras, indicando eficácia nos procedimentos de inserção e manutenção. A ausência de duplicatas fortalece a confiança na utilização desses dados para tomada de decisões e estratégias operacionais.</i>\n"
   ]
  },
  {
   "cell_type": "markdown",
   "id": "274cd06a",
   "metadata": {
    "id": "274cd06a"
   },
   "source": [
    "### DataFrame `order_products`"
   ]
  },
  {
   "cell_type": "code",
   "execution_count": 21,
   "id": "52326689-84a8-4b8f-a881-7c68780f62c9",
   "metadata": {
    "id": "52326689-84a8-4b8f-a881-7c68780f62c9"
   },
   "outputs": [
    {
     "name": "stdout",
     "output_type": "stream",
     "text": [
      "Total de linhas duplicadas em DataFrame order_products: 0\n"
     ]
    }
   ],
   "source": [
    "# Verifique se há linhas completamente duplicadas\n",
    "duplicated_order_products = order_products.duplicated()\n",
    "print(f'Total de linhas duplicadas em DataFrame order_products: {duplicated_order_products.sum()}')"
   ]
  },
  {
   "cell_type": "code",
   "execution_count": 22,
   "id": "7b861391",
   "metadata": {
    "id": "7b861391"
   },
   "outputs": [
    {
     "name": "stdout",
     "output_type": "stream",
     "text": [
      "Total de linhas duplicadas em DataFrame order_products: order_id             0.0\n",
      "product_id           0.0\n",
      "add_to_cart_order    0.0\n",
      "reordered            0.0\n",
      "dtype: float64\n"
     ]
    }
   ],
   "source": [
    "# Verifique mais uma vez se há outros casos complicados de duplicados\n",
    "complicated_duplicates = order_products[order_products.duplicated(keep=False)]\n",
    "print(f'Total de linhas duplicadas em DataFrame order_products: {complicated_duplicates.sum()}')"
   ]
  },
  {
   "cell_type": "markdown",
   "id": "0b890492",
   "metadata": {
    "id": "0b890492"
   },
   "source": [
    "Descreva brevemente suas conclusões e o que você fez com elas.\n",
    "\n",
    "<i style=\"color:darkblue;\">A análise do DataFrame `order_products` revelou a ausência de linhas completamente duplicadas, indicando dados bem estruturados e consistentes. Ao verificar casos complicados de duplicatas, não foram encontrados registros com duplicações, reforçando a qualidade e a integridade dos dados relacionados aos produtos incluídos nos pedidos. Esses resultados positivos indicam que não são necessárias ações corretivas para duplicatas neste DataFrame.</i>"
   ]
  },
  {
   "cell_type": "markdown",
   "id": "1e46de76",
   "metadata": {
    "id": "1e46de76"
   },
   "source": [
    "## Encontre e remova valores ausentes\n",
    "\n",
    "\n",
    "Ao processarmos valores duplicados, observamos que também temos valores ausentes que precisamos investigar nas seguintes colunas:\n",
    "\n",
    "*\tA coluna `'product_name'` da tabela products.\n",
    "*\tA coluna `'days_since_prior_order'` da tabela orders.\n",
    "*\tA coluna `'add_to_cart_order'` da tabela order_products.\n"
   ]
  },
  {
   "cell_type": "markdown",
   "id": "c0aebd78",
   "metadata": {
    "id": "c0aebd78"
   },
   "source": [
    "### DataFrame `products`"
   ]
  },
  {
   "cell_type": "code",
   "execution_count": 23,
   "id": "fe4a8b0f",
   "metadata": {
    "id": "fe4a8b0f"
   },
   "outputs": [
    {
     "name": "stdout",
     "output_type": "stream",
     "text": [
      "Total de valores ausentes na coluna \"product_name\" de DataFrame products: 1258\n"
     ]
    }
   ],
   "source": [
    "# Encontre valores ausentes na coluna 'product_name'\n",
    "null_product_names = products['product_name'].isnull().sum()\n",
    "print(f'Total de valores ausentes na coluna \"product_name\" de DataFrame products: {null_product_names}')"
   ]
  },
  {
   "cell_type": "markdown",
   "id": "-A6x1AbJhjkp",
   "metadata": {
    "id": "-A6x1AbJhjkp"
   },
   "source": [
    "Descreva brevemente suas conclusões.\n",
    "\n",
    "<i style=\"color:darkblue;\">A análise revelou que o DataFrame `products` contém um total de 1.258 valores ausentes na coluna `'product_name'`. Esta quantidade significativa de informações faltantes pode impactar análises que dependam da identificação precisa dos produtos, podendo dificultar a associação correta dos itens às suas respectivas categorias ou departamentos. É essencial abordar esses valores ausentes, seja preenchendo-os com um marcador genérico, como `'Unknown'`, para manter a integridade dos dados, ou investigando mais a fundo para tentar recuperar os nomes ausentes, consultando outras fontes de dados.</i>"
   ]
  },
  {
   "cell_type": "code",
   "execution_count": 24,
   "id": "e96167bc",
   "metadata": {
    "id": "e96167bc"
   },
   "outputs": [
    {
     "name": "stdout",
     "output_type": "stream",
     "text": [
      "Produtos com nomes ausentes na seção 100: 1258\n"
     ]
    }
   ],
   "source": [
    "# Todos os nomes de produtos ausentes estão associados com a seção de ID 100?\n",
    "null_products_section = products[products['product_name'].isnull() & (products['aisle_id'] == 100)]\n",
    "print(f'Produtos com nomes ausentes na seção 100: {len(null_products_section)}')"
   ]
  },
  {
   "cell_type": "markdown",
   "id": "WRpIfXRphpSL",
   "metadata": {
    "id": "WRpIfXRphpSL"
   },
   "source": [
    "Descreva brevemente suas conclusões.\n",
    "\n",
    "<i style=\"color:darkblue;\">Ao analisar os produtos com nomes ausentes no DataFrame `products`, foi identificado que todos os 1.258 registros sem nome estão associados à seção de ID 100. Essa concentração sugere que há uma peculiaridade nessa seção que pode estar relacionada à falta de informações. A investigação aprofundada na seção 100 pode revelar sobre por que esses produtos específicos não possuem nomes registrados. Essa análise mais detalhada permitirá melhorias nos processos de coleta e manutenção de dados, visando evitar futuras omissões.</i>"
   ]
  },
  {
   "cell_type": "code",
   "execution_count": 25,
   "id": "8fd0a541",
   "metadata": {
    "id": "8fd0a541"
   },
   "outputs": [
    {
     "name": "stdout",
     "output_type": "stream",
     "text": [
      "Produtos com nomes ausentes no departamento 21: 1258\n"
     ]
    }
   ],
   "source": [
    "# Todos os nomes de produtos ausentes estão associados com o departamento de ID 21?\n",
    "null_products_department = products[products['product_name'].isnull() & (products['department_id'] == 21)]\n",
    "print(f'Produtos com nomes ausentes no departamento 21: {len(null_products_department)}')"
   ]
  },
  {
   "cell_type": "markdown",
   "id": "qDpdYn1Fht_I",
   "metadata": {
    "id": "qDpdYn1Fht_I"
   },
   "source": [
    "Descreva brevemente suas conclusões.\n",
    "\n",
    "<i style=\"color:darkblue;\">Ao analisar os produtos com nomes ausentes no DataFrame `products`, observa-se que 1.258 registros sem nome estão associados ao departamento de ID 21. Essa concentração sugere que a ausência de informações é específica para esse departamento, como ocorrido na seção de ID 100. Investigar detalhadamente o departamento 21 pode revelar razões específicas para a falta de nomes de produtos.</i>"
   ]
  },
  {
   "cell_type": "code",
   "execution_count": 26,
   "id": "325c3464",
   "metadata": {
    "id": "325c3464"
   },
   "outputs": [
    {
     "name": "stdout",
     "output_type": "stream",
     "text": [
      "Informações sobre a seção de ID 100:\n",
      "    aisle_id    aisle\n",
      "99       100  missing\n",
      "\n",
      "Informações sobre o departamento de ID 21:\n",
      "    department_id department\n",
      "20             21    missing\n"
     ]
    }
   ],
   "source": [
    "# Use as tabelas de departamentos e seções para verificar os dados da seção ID 100 e do departamento ID 21.\n",
    "section_100_info = aisles[aisles['aisle_id'] == 100]\n",
    "department_21_info = departments[departments['department_id'] == 21]\n",
    "\n",
    "print(f'Informações sobre a seção de ID 100:\\n{section_100_info}')\n",
    "print()\n",
    "print(f'Informações sobre o departamento de ID 21:\\n{department_21_info}')"
   ]
  },
  {
   "cell_type": "markdown",
   "id": "nqhSTUPhhvEJ",
   "metadata": {
    "id": "nqhSTUPhhvEJ"
   },
   "source": [
    "Descreva brevemente suas conclusões.\n",
    "\n",
    "<i style=\"color:darkblue;\">A análise das tabelas de `aisles` e `departments` revelou informações específicas sobre a seção de ID 100 e o departamento de ID 21. Ambos apresentam rótulos como `missing`, indicando uma possível categorização especial ou ausência de informação significativa. Essa descoberta sugere que os produtos associados a essas categorias podem ter peculiaridades ou características distintas, contribuindo para a ausência de nomes. A informação original pode não ter sido coletada ou registrada, destacando a importância de revisar e aprimorar os processos de entrada de dados para garantir a completude das informações.</i>"
   ]
  },
  {
   "cell_type": "code",
   "execution_count": 27,
   "id": "6b295120",
   "metadata": {
    "id": "6b295120"
   },
   "outputs": [],
   "source": [
    "# Preencha nomes de produtos ausentes com 'Unknown'\n",
    "products['product_name'].fillna('Unknown', inplace=True)"
   ]
  },
  {
   "cell_type": "markdown",
   "id": "fc70e5ad",
   "metadata": {
    "id": "fc70e5ad"
   },
   "source": [
    "Descreva brevemente suas conclusões e o que você fez com elas.\n",
    "\n",
    "<i style=\"color:darkblue;\">Diante da identificação de 1.258 produtos com nomes ausentes, adotei a decisão de preencher esses valores nulos com o rótulo `Unknown`. Essa medida visa manter a integridade do conjunto de dados, permitindo análises futuras sem comprometer a qualidade das informações. Embora seja uma solução temporária, a escolha de `Unknown` como substituto fornece uma abordagem uniforme e compreensível para registros incompletos.</i>"
   ]
  },
  {
   "cell_type": "markdown",
   "id": "7eb45c86",
   "metadata": {
    "id": "7eb45c86"
   },
   "source": [
    "### DataFrame `orders`"
   ]
  },
  {
   "cell_type": "code",
   "execution_count": 28,
   "id": "93e41d96",
   "metadata": {
    "id": "93e41d96"
   },
   "outputs": [
    {
     "name": "stdout",
     "output_type": "stream",
     "text": [
      "Valores ausentes no DataFrame \"orders\":\n",
      "order_id                      0\n",
      "user_id                       0\n",
      "order_number                  0\n",
      "order_dow                     0\n",
      "order_hour_of_day             0\n",
      "days_since_prior_order    28817\n",
      "dtype: int64\n"
     ]
    }
   ],
   "source": [
    "# Encontre os valores ausentes\n",
    "null_orders = orders.isnull().sum()\n",
    "print(f'Valores ausentes no DataFrame \"orders\":')\n",
    "print(null_orders)"
   ]
  },
  {
   "cell_type": "code",
   "execution_count": 29,
   "id": "166e5a86",
   "metadata": {
    "id": "166e5a86"
   },
   "outputs": [
    {
     "name": "stdout",
     "output_type": "stream",
     "text": [
      "Número de valores ausentes para clientes que não estão fazendo o primeiro pedido: 0\n"
     ]
    }
   ],
   "source": [
    "# Há valores ausentes para os clientes que não estão fazendo o primeiro pedido?\n",
    "null_orders_not_first_order = orders[(orders['days_since_prior_order'].isnull()) & (orders['order_number'] > 1)]\n",
    "print(f'Número de valores ausentes para clientes que não estão fazendo o primeiro pedido: {len(null_orders_not_first_order)}')"
   ]
  },
  {
   "cell_type": "markdown",
   "id": "4e23d089",
   "metadata": {
    "id": "4e23d089"
   },
   "source": [
    "Descreva brevemente suas conclusões e o que você fez com elas.\n",
    "\n",
    "<i style=\"color:darkblue;\">Após a verificação, observa-se que não há valores ausentes na coluna `'days_since_prior_order'` para clientes que não estão fazendo o primeiro pedido, tendo o valor zero. Com base nessa conclusão, podemos afirmar que os valores ausentes nessa coluna ocorrem apenas quando os clientes estão realizando seu primeiro pedido.</i>"
   ]
  },
  {
   "cell_type": "markdown",
   "id": "69dc9ca4",
   "metadata": {
    "id": "69dc9ca4"
   },
   "source": [
    "### DataFrame `order_products`"
   ]
  },
  {
   "cell_type": "code",
   "execution_count": 30,
   "id": "b8240253",
   "metadata": {
    "id": "b8240253"
   },
   "outputs": [
    {
     "name": "stdout",
     "output_type": "stream",
     "text": [
      "Valores ausentes no DataFrame \"order_products\":\n",
      "order_id               0\n",
      "product_id             0\n",
      "add_to_cart_order    836\n",
      "reordered              0\n",
      "dtype: int64\n"
     ]
    }
   ],
   "source": [
    "# Encontre os valores ausentes\n",
    "null_order_products = order_products.isnull().sum()\n",
    "print(f'Valores ausentes no DataFrame \"order_products\":')\n",
    "print(null_order_products)"
   ]
  },
  {
   "cell_type": "code",
   "execution_count": 31,
   "id": "9a78e5ee",
   "metadata": {
    "id": "9a78e5ee"
   },
   "outputs": [
    {
     "name": "stdout",
     "output_type": "stream",
     "text": [
      "Valor mínimo da coluna \"add_to_cart_order\": 1.0\n",
      "Valor máximo da coluna \"add_to_cart_order\": 64.0\n"
     ]
    }
   ],
   "source": [
    "# Quais são os valores mínimo e máximo dessa coluna?\n",
    "min_add_to_cart_order = order_products['add_to_cart_order'].min()\n",
    "max_add_to_cart_order = order_products['add_to_cart_order'].max()\n",
    "\n",
    "print(f'Valor mínimo da coluna \"add_to_cart_order\": {min_add_to_cart_order}')\n",
    "print(f'Valor máximo da coluna \"add_to_cart_order\": {max_add_to_cart_order}')"
   ]
  },
  {
   "cell_type": "markdown",
   "id": "-Z2Ja215jW78",
   "metadata": {
    "id": "-Z2Ja215jW78"
   },
   "source": [
    "Descreva brevemente suas conclusões.\n",
    "\n",
    "<i style=\"color:darkblue;\">Ao analisar o DataFrame `order_products`, identificamos 836 valores ausentes na coluna `'add_to_cart_order'`. Essa coluna representa a ordem sequencial em que cada item foi colocado no carrinho. Os valores mínimos e máximos dessa coluna são 1.0 e 64.0, respectivamente. Considerando a natureza da variável `'add_to_cart_order'`, que representa a ordem de adição de produtos ao carrinho, a ausência de valores pode indicar situações em que o pedido não possui essa informação registrada. Para lidar com os valores ausentes, podemos adotar a abordagem de preenchê-los com um valor padrão, como 0, indicando que a ordem de adição ao carrinho não foi especificada.</i>"
   ]
  },
  {
   "cell_type": "code",
   "execution_count": 32,
   "id": "ab9d0c2b",
   "metadata": {
    "id": "ab9d0c2b"
   },
   "outputs": [
    {
     "name": "stdout",
     "output_type": "stream",
     "text": [
      "2449164\n",
      "1968313\n",
      "2926893\n",
      "1717990\n",
      "1959075\n",
      "844733\n",
      "61355\n",
      "936852\n",
      "264710\n",
      "1564093\n",
      "129627\n",
      "293169\n",
      "2849370\n",
      "1386261\n",
      "3308010\n",
      "903110\n",
      "2136777\n",
      "3347453\n",
      "1888628\n",
      "165801\n",
      "2094761\n",
      "1038146\n",
      "2997021\n",
      "813364\n",
      "2256933\n",
      "171934\n",
      "2409109\n",
      "1730767\n",
      "1169835\n",
      "733526\n",
      "404157\n",
      "3125735\n",
      "747668\n",
      "1800005\n",
      "1961723\n",
      "871281\n",
      "388234\n",
      "1648217\n",
      "1477139\n",
      "102236\n",
      "1021563\n",
      "1832957\n",
      "2721963\n",
      "678116\n",
      "1220886\n",
      "1673227\n",
      "2999801\n",
      "1633337\n",
      "2470674\n",
      "2625444\n",
      "1677118\n",
      "2479011\n",
      "3383594\n",
      "1183255\n",
      "1713430\n",
      "2652650\n",
      "1598369\n",
      "1916118\n",
      "854647\n",
      "1302315\n",
      "888470\n",
      "180546\n",
      "2621907\n",
      "1308785\n",
      "2729254\n",
      "9310\n",
      "2170451\n",
      "2979697\n",
      "1625713\n",
      "1529171\n"
     ]
    }
   ],
   "source": [
    "# Salve todos os IDs dos pedidos com pelo menos um valor ausente em 'add_to_cart_order'\n",
    "orders_with_missing_add_to_cart = order_products[order_products['add_to_cart_order'].isnull()]['order_id'].unique()\n",
    "for order_id in orders_with_missing_add_to_cart:\n",
    "    print(order_id)"
   ]
  },
  {
   "cell_type": "code",
   "execution_count": 33,
   "id": "54c31695",
   "metadata": {
    "id": "54c31695"
   },
   "outputs": [
    {
     "name": "stdout",
     "output_type": "stream",
     "text": [
      "Todos os pedidos com valores ausentes contêm mais de 64 produtos: False\n",
      "Valor mínimo da contagem de produtos em pedidos com valores ausentes: 65\n"
     ]
    }
   ],
   "source": [
    "# Todos os pedidos com valores ausentes contêm mais de 64 produtos?\n",
    "all_orders_missing_add_to_cart = order_products[order_products['order_id'].isin(orders_with_missing_add_to_cart)]\n",
    "all_orders_missing_add_to_cart_counts = all_orders_missing_add_to_cart.groupby('order_id')['product_id'].count()\n",
    "\n",
    "orders_with_more_than_64_products = all_orders_missing_add_to_cart_counts[all_orders_missing_add_to_cart_counts > 64]\n",
    "print(f'Todos os pedidos com valores ausentes contêm mais de 64 produtos: {len(orders_with_more_than_64_products) == 0}')\n",
    "\n",
    "# Agrupe os pedidos com dados ausentes por ID de pedido\n",
    "grouped_orders_missing_add_to_cart = all_orders_missing_add_to_cart.groupby('order_id')['product_id'].unique()\n",
    "\n",
    "# Conte o número de 'product_id' em cada pedido e verifique o valor mínimo da contagem\n",
    "min_product_count = grouped_orders_missing_add_to_cart.apply(len).min()\n",
    "print(f'Valor mínimo da contagem de produtos em pedidos com valores ausentes: {min_product_count}')"
   ]
  },
  {
   "cell_type": "markdown",
   "id": "p9V6pddtjglj",
   "metadata": {
    "id": "p9V6pddtjglj"
   },
   "source": [
    "Descreva brevemente suas conclusões.\n",
    "\n",
    "<i style=\"color:darkblue;\">A análise dos pedidos com valores ausentes na coluna `'add_to_cart_order'` revela que nem todos os pedidos contêm mais de 64 produtos, contradizendo a hipótese inicial. Isso é indicado pelo resultado que mostra a existência de pedidos com valores ausentes que não ultrapassam esse limite. No entanto, o valor mínimo da contagem de produtos em pedidos com dados ausentes é 65, o que sugere uma possível correlação entre a ausência desses dados e pedidos com um grande número de itens. Isso poderia indicar que, em casos onde há muitos itens em um pedido, pode haver uma maior probabilidade de ocorrerem falhas na captura de dados relacionados à sequência em que os produtos foram adicionados ao carrinho.</i>"
   ]
  },
  {
   "cell_type": "code",
   "execution_count": 34,
   "id": "7a987d08",
   "metadata": {
    "id": "7a987d08"
   },
   "outputs": [
    {
     "name": "stdout",
     "output_type": "stream",
     "text": [
      "   order_id  product_id  add_to_cart_order  reordered\n",
      "0   2141543       11440                 17          0\n",
      "1    567889        1560                  1          1\n",
      "2   2261212       26683                  1          1\n",
      "3    491251        8670                 35          1\n",
      "4   2571142        1940                  5          1\n",
      "\n",
      "       order_id  product_id  add_to_cart_order  reordered\n",
      "737     2449164        5068                999          0\n",
      "9926    1968313       43867                999          0\n",
      "14394   2926893       11688                999          0\n",
      "16418   1717990        4142                999          0\n",
      "30114   1959075       42828                999          1\n"
     ]
    }
   ],
   "source": [
    "# Substitua valores ausentes na coluna 'add_to_cart_order' por 999 e converta a coluna para o tipo integer\n",
    "order_products['add_to_cart_order'].fillna(999, inplace=True) # Substituindo valores ausentes por 999\n",
    "order_products['add_to_cart_order'] = order_products['add_to_cart_order'].astype(int) # Convertendo a coluna para o tipo inteiro\n",
    "rows_with_999 = order_products[order_products['add_to_cart_order'] == 999] # Filtro para exibir apenas as linhas onde os valores foram substituídos por 999\n",
    "\n",
    "print(order_products.head())\n",
    "print()\n",
    "print(rows_with_999.head())"
   ]
  },
  {
   "cell_type": "markdown",
   "id": "fea4bcc7",
   "metadata": {
    "id": "fea4bcc7"
   },
   "source": [
    "Descreva brevemente suas conclusões e o que você fez com elas.\n",
    "\n",
    "<i style=\"color:darkblue;\">Quando examinado o DataFrame `order_products`, foi descoberto 836 valores ausentes na coluna `'add_to_cart_order'`. Para manter a consistência dos dados, foi substituído esses valores ausentes por `999` e convertido a coluna para int64. Essa abordagem permite identificar facilmente as entradas modificadas, mantendo a integridade dos dados para análises futuras. A substituição por um valor distinto (999) é uma prática comum no tratamento de dados ausentes, assegurando que o conjunto de dados, mesmo incompleto, possa ser utilizado eficientemente em pesquisas e análises subsequentes.</i>"
   ]
  },
  {
   "cell_type": "markdown",
   "id": "RnplPFY1gSrb",
   "metadata": {
    "id": "RnplPFY1gSrb"
   },
   "source": [
    "## Conclusões\n",
    "\n",
    "Escreva aqui suas conclusões intermediárias da Etapa 2. Preparação de dados\n",
    "\n",
    "<i style=\"color:darkblue;\">Nesta etapa, de Preparação de Dados, identificamos e tratamos valores duplicados e ausentes nos DataFrames. No DataFrame `orders`, eliminamos 15 pedidos duplicados, enquanto no DataFrame `products`, encontramos 1.258 valores ausentes associados a seção ID 100 e departamento ID 21, resolvendo isso e preenchendo com `Unknown`. Em relação aos DataFrames `departments` e `aisles`, não encontramos duplicatas. No DataFrame `order_products`, não identificamos duplicatas ou valores ausentes após o tratamento.\n",
    "\n",
    "Na abordagem de valores ausentes, substituímos as 836 entradas de valores ausentes na coluna `'add_to_cart_order'` em `order_products` por `999`. Também descobrimos que todos os pedidos com valores ausentes tinham mais de 64 produtos. Essa análise nos permitiu tomar decisões informadas sobre como lidar com valores nulos, mantendo a integridade dos dados para análises futuras.</i>"
   ]
  },
  {
   "cell_type": "markdown",
   "id": "UjrOIwTcz3ri",
   "metadata": {
    "id": "UjrOIwTcz3ri"
   },
   "source": [
    "# Etapa 3. Análise de dados\n",
    "\n",
    "Quando os dados estiverem processados ​​e prontos, execute a seguinte análise:"
   ]
  },
  {
   "cell_type": "markdown",
   "id": "turkish-kidney",
   "metadata": {
    "id": "turkish-kidney"
   },
   "source": [
    "# [A] Fácil (é necessário concluir tudo para passar)\n",
    "\n",
    "1.\tVerifique se os valores nas colunas `'order_hour_of_day'` e `'order_dow'` na tabela `orders` fazem sentido (ou seja, os valores da coluna  `'order_hour_of_day'` variam de 0 a 23 e os da `'order_dow'` variam de 0 a 6).\n",
    "2.\tCrie um gráfico que mostre quantas pessoas fazem pedidos por cada hora do dia.\n",
    "3.\tCrie um gráfico que mostre em que dia da semana as pessoas fazem compras.\n",
    "4.\tCrie um gráfico que mostre quanto tempo as pessoas esperam até fazer seu próximo pedido e comente sobre os valores mínimo e máximo.\n"
   ]
  },
  {
   "cell_type": "markdown",
   "id": "short-capability",
   "metadata": {
    "id": "short-capability"
   },
   "source": [
    "### [A1] Verifique se os valores fazem sentido"
   ]
  },
  {
   "cell_type": "code",
   "execution_count": 35,
   "id": "growing-fruit",
   "metadata": {
    "id": "growing-fruit"
   },
   "outputs": [
    {
     "name": "stdout",
     "output_type": "stream",
     "text": [
      "Valores inválidos em \"order_hour_of_day\":\n",
      "Empty DataFrame\n",
      "Columns: [order_id, user_id, order_number, order_dow, order_hour_of_day, days_since_prior_order]\n",
      "Index: []\n"
     ]
    },
    {
     "data": {
      "image/png": "[encoded data removed]",
      "text/plain": [
       "<Figure size 720x432 with 1 Axes>"
      ]
     },
     "metadata": {
      "needs_background": "light"
     },
     "output_type": "display_data"
    }
   ],
   "source": [
    "#Verificando a coluna 'order_hour_of_day'\n",
    "invalid_hours = orders[(orders['order_hour_of_day'] < 0) | (orders['order_hour_of_day'] > 23)]\n",
    "print(f'Valores inválidos em \"order_hour_of_day\":\\n{invalid_hours}')\n",
    "\n",
    "# Contagem de ocorrências de cada hora do dia\n",
    "hour_counts = orders['order_hour_of_day'].value_counts().sort_index()\n",
    "\n",
    "# Plotando a distribuição de 'order_hour_of_day'\n",
    "plt.figure(figsize=(10, 6))\n",
    "plt.bar(hour_counts.index, hour_counts.values, color='skyblue')\n",
    "plt.title('Distribuição de Pedidos por Hora do Dia')\n",
    "plt.xlabel('Hora do Dia')\n",
    "plt.ylabel('Número de Pedidos')\n",
    "plt.xticks(hour_counts.index)\n",
    "plt.grid(axis='y', linestyle='--')\n",
    "plt.show()"
   ]
  },
  {
   "cell_type": "code",
   "execution_count": 36,
   "id": "accessory-malaysia",
   "metadata": {
    "id": "accessory-malaysia"
   },
   "outputs": [
    {
     "name": "stdout",
     "output_type": "stream",
     "text": [
      "Valores inválidos em \"order_dow\":\n",
      "Empty DataFrame\n",
      "Columns: [order_id, user_id, order_number, order_dow, order_hour_of_day, days_since_prior_order]\n",
      "Index: []\n"
     ]
    },
    {
     "data": {
      "image/png": "[encoded data removed]",
      "text/plain": [
       "<Figure size 720x432 with 1 Axes>"
      ]
     },
     "metadata": {
      "needs_background": "light"
     },
     "output_type": "display_data"
    }
   ],
   "source": [
    "#Verificando a coluna 'order_dow'\n",
    "invalid_dow = orders[(orders['order_dow'] < 0) | (orders['order_dow'] > 6)]\n",
    "print(f'Valores inválidos em \"order_dow\":\\n{invalid_dow}')\n",
    "\n",
    "# Contagem de ocorrências de cada dia da semana\n",
    "dow_counts = orders['order_dow'].value_counts().sort_index()\n",
    "dow_counts.index = ['Domingo', 'Segunda-feira', 'Terça-feira', 'Quarta-feira', 'Quinta-feira', 'Sexta-feira', 'Sábado'] # Substituição dos números pelos nomes dos dias da semana\n",
    "\n",
    "\n",
    "# Plotando a distribuição de 'order_dow'\n",
    "plt.figure(figsize=(10, 6))\n",
    "plt.bar(dow_counts.index, dow_counts.values, color='lightgreen')\n",
    "plt.title('Distribuição de Pedidos por Dia da Semana')\n",
    "plt.xlabel('Dia da Semana')\n",
    "plt.ylabel('Número de Pedidos')\n",
    "plt.xticks(dow_counts.index)\n",
    "plt.grid(axis='y', linestyle='--')\n",
    "plt.show()"
   ]
  },
  {
   "cell_type": "markdown",
   "id": "hmR2GNQ6lCsX",
   "metadata": {
    "id": "hmR2GNQ6lCsX"
   },
   "source": [
    "Escreva suas conclusões aqui\n",
    "\n",
    "<i style=\"color:darkblue;\">Não foram encontrados valores inválidos nas colunas `'order_hour_of_day'` e `'order_dow'` do DataFrame `orders`. Isso significa que essas colunas estão consistentes, seguindo as expectativas de que `'order_hour_of_day'` deve variar de 0 a 23 e `'order_dow'` de 0 a 6.</i>"
   ]
  },
  {
   "cell_type": "markdown",
   "id": "a6743a70",
   "metadata": {
    "id": "a6743a70"
   },
   "source": [
    "### [A2] Quantas pessoas fazem pedidos a cada hora do dia?"
   ]
  },
  {
   "cell_type": "code",
   "execution_count": 37,
   "id": "a36cca27",
   "metadata": {
    "id": "a36cca27"
   },
   "outputs": [
    {
     "data": {
      "image/png": "[encoded data removed]",
      "text/plain": [
       "<Figure size 720x432 with 1 Axes>"
      ]
     },
     "metadata": {
      "needs_background": "light"
     },
     "output_type": "display_data"
    }
   ],
   "source": [
    "orders_per_hour = orders['order_hour_of_day'].value_counts().sort_index() # Calculando o número de pedidos por hora do dia\n",
    "\n",
    "# Criando o gráfico\n",
    "orders_per_hour.plot(\n",
    "    x='hour',\n",
    "    y='order',\n",
    "    figsize=(10, 6),\n",
    "    kind='bar',\n",
    "    title='Número de Pedidos por Hora do Dia',\n",
    "    xlabel='Hora do Dia',\n",
    "    ylabel='Número de Pedidos',\n",
    "    rot=1)\n",
    "\n",
    "plt.show()"
   ]
  },
  {
   "cell_type": "markdown",
   "id": "11270eed",
   "metadata": {
    "id": "11270eed"
   },
   "source": [
    "Escreva suas conclusões aqui\n",
    "\n",
    "<i style=\"color:darkblue;\">A maioria dos pedidos é feita durante o dia, com um pico notável nas horas da manhã, especialmente entre 9h e 11h. Há uma queda acentuada nas horas da madrugada, com a menor quantidade de pedidos entre 2h e 5h.</i>"
   ]
  },
  {
   "cell_type": "markdown",
   "id": "documented-command",
   "metadata": {
    "id": "documented-command"
   },
   "source": [
    "### [A3] Em que dia da semana as pessoas fazem compras?"
   ]
  },
  {
   "cell_type": "code",
   "execution_count": 38,
   "id": "chief-digit",
   "metadata": {
    "id": "chief-digit"
   },
   "outputs": [
    {
     "data": {
      "image/png": "[encoded data removed]",
      "text/plain": [
       "<Figure size 720x432 with 1 Axes>"
      ]
     },
     "metadata": {
      "needs_background": "light"
     },
     "output_type": "display_data"
    }
   ],
   "source": [
    "#Calculando o número de pedidos por dia da semana\n",
    "orders_per_dow = orders['order_dow'].value_counts().sort_index()\n",
    "orders_per_dow.index = ['Domingo', 'Segunda-feira', 'Terça-feira', 'Quarta-feira', 'Quinta-feira', 'Sexta-feira', 'Sábado'] # Substituição dos números pelos nomes dos dias da semana\n",
    "\n",
    "#Criando o gráfico\n",
    "orders_per_dow.plot(\n",
    "    x='day',\n",
    "    y='order',\n",
    "    kind='bar',\n",
    "    figsize=(10, 6),\n",
    "    title='Número de Pedidos por Dia da Semana',\n",
    "    xlabel='Dia da Semana',\n",
    "    ylabel='Número de Pedidos',\n",
    "    rot=45)\n",
    "\n",
    "plt.show()"
   ]
  },
  {
   "cell_type": "markdown",
   "id": "dominant-lightning",
   "metadata": {
    "id": "dominant-lightning"
   },
   "source": [
    "Escreva suas conclusões aqui\n",
    "\n",
    "<i style=\"color:darkblue;\">Nos pedidos por dia da semana, observou-se que os dias mais movimentados são domingo e segunda-feira. Este padrão pode estar relacionado ao fato de que as pessoas tendem a fazer compras online mais frequentemente no início da semana ou no final do fim de semana. Foi substituído os valores de 0 a 6 da coluna `'order_dow'`, que referem-se aos dias da semana, por valores que indicam os dias da semana em texto, exemplo: \"Domingo\", dessa forma torna o gráfica com leitura mais fácil.</i>"
   ]
  },
  {
   "cell_type": "markdown",
   "id": "cutting-concert",
   "metadata": {
    "id": "cutting-concert"
   },
   "source": [
    "### [A4] Quanto tempo as pessoas esperam até fazer outro pedido?"
   ]
  },
  {
   "cell_type": "markdown",
   "id": "discrete-vertex",
   "metadata": {
    "id": "discrete-vertex"
   },
   "source": [
    "Escreva suas conclusões aqui\n",
    "\n",
    "<i style=\"color:darkblue;\">A distribuição mostra que a maioria dos pedidos é feita com intervalos de 1 a 30 dias desde o último pedido, com um pico notável em 7 dias, indicando que muitos clientes fazem pedidos semanais. Pedidos com 0 dias indicam que foram feitos no mesmo dia do pedido anterior, uma quantidade baixa de pedidos, enquanto pedidos com 30 dias indicam que foram feitos aproximadamente no mesmo dia do mês anterior, um pico de pedidos. Este padrão sugere uma variedade de comportamentos de compra, com alguns clientes fazendo pedidos com frequência e outros com intervalos mais espaçados.</i>"
   ]
  },
  {
   "cell_type": "code",
   "execution_count": 39,
   "id": "gMOIimGd5VNb",
   "metadata": {
    "id": "gMOIimGd5VNb"
   },
   "outputs": [
    {
     "data": {
      "image/png": "[encoded data removed]",
      "text/plain": [
       "<Figure size 720x432 with 1 Axes>"
      ]
     },
     "metadata": {
      "needs_background": "light"
     },
     "output_type": "display_data"
    }
   ],
   "source": [
    "# Calculando o tempo médio de espera até o próximo pedido\n",
    "orders_interval = orders['days_since_prior_order'].value_counts().sort_index()\n",
    "\n",
    "#Gráfico\n",
    "orders_interval.plot(\n",
    "    x='days',\n",
    "    y='order',\n",
    "    kind='bar',\n",
    "    figsize=(10, 6),\n",
    "    title='Distribuição do Tempo de Espera até o Próximo Pedido',\n",
    "    xlabel='Dias Desde o Último Pedido',\n",
    "    ylabel='Número de Pedidos',\n",
    "    rot=45)\n",
    "\n",
    "plt.show()"
   ]
  },
  {
   "cell_type": "markdown",
   "id": "tight-staff",
   "metadata": {
    "id": "tight-staff"
   },
   "source": [
    "# [B] Médio (é necessário concluir tudo para passar)\n",
    "\n",
    "1.\tHá alguma diferença nas distribuições de `'order_hour_of_day'` nas quartas e sábados? Construa gráficos de barras para ambos os dias no mesmo gráfico e descreva as diferenças que você notou.\n",
    "2.\tConstrua um gráfico de distribuição para o número de pedidos que os clientes fazem (ou seja, quantos clientes fizeram apenas 1 pedido, quantos fizeram apenas 2, quantos apenas 3, etc.)\n",
    "3.\tQuais são os 20 produtos comprados com mais frequência? Exiba os IDs e nomes.\n"
   ]
  },
  {
   "cell_type": "markdown",
   "id": "packed-classic",
   "metadata": {
    "id": "packed-classic"
   },
   "source": [
    "### [B1] Diferenças nas quartas e sábados em `'order_hour_of_day'`. Crie gráficos de barras para ambos os dias e descreva as diferenças."
   ]
  },
  {
   "cell_type": "code",
   "execution_count": 40,
   "id": "d89b8403",
   "metadata": {
    "id": "d89b8403"
   },
   "outputs": [],
   "source": [
    "# Filtrando dados para quartas-feiras e sábados\n",
    "wednesday_orders = orders[orders['order_dow'] == 2]  # Quartas-feiras\n",
    "saturday_orders = orders[orders['order_dow'] == 5]   # Sábados"
   ]
  },
  {
   "cell_type": "code",
   "execution_count": 41,
   "id": "94e54e8a",
   "metadata": {
    "id": "94e54e8a"
   },
   "outputs": [],
   "source": [
    "# Calculando distribuições de order_hour_of_day\n",
    "wednesday_distribution = wednesday_orders['order_hour_of_day'].value_counts().sort_index()\n",
    "saturday_distribution = saturday_orders['order_hour_of_day'].value_counts().sort_index()"
   ]
  },
  {
   "cell_type": "code",
   "execution_count": 42,
   "id": "797c90a8",
   "metadata": {
    "id": "797c90a8"
   },
   "outputs": [],
   "source": [
    "# Criando uma única variável para ambos os dias\n",
    "we_sa_distribution = pd.DataFrame({'Quartas-feiras': wednesday_distribution, 'Sábados': saturday_distribution})"
   ]
  },
  {
   "cell_type": "code",
   "execution_count": 43,
   "id": "35bcea30",
   "metadata": {
    "id": "35bcea30"
   },
   "outputs": [
    {
     "data": {
      "image/png": "[encoded data removed]",
      "text/plain": [
       "<Figure size 864x432 with 1 Axes>"
      ]
     },
     "metadata": {
      "needs_background": "light"
     },
     "output_type": "display_data"
    }
   ],
   "source": [
    "#Gráfico\n",
    "we_sa_distribution.plot(\n",
    "    kind='bar',\n",
    "    figsize=(12, 6),\n",
    "    width=0.8,\n",
    "    title='Distribuição de Pedidos por Hora do Dia (Quartas-feiras vs. Sábados)',\n",
    "    xlabel='Hora do Dia',\n",
    "    ylabel='Número de Pedidos',\n",
    "    rot=1)\n",
    "\n",
    "plt.show()"
   ]
  },
  {
   "cell_type": "markdown",
   "id": "charitable-congo",
   "metadata": {
    "id": "charitable-congo"
   },
   "source": [
    "Escreva suas conclusões aqui\n",
    "\n",
    "<i style=\"color:darkblue;\">As distribuições de pedidos por hora nas quartas-feiras e sábados apresentam semelhanças, com picos de atividade em torno das 10h e 11h. Quartas-feiras e sábado têm uma queda gradual após as 18h. Nas quartas, as primeiras horas do dia são mais estáveis. Essas nuances indicam padrões distintos de comportamento de compra.</i>"
   ]
  },
  {
   "cell_type": "markdown",
   "id": "e3891143",
   "metadata": {
    "id": "e3891143"
   },
   "source": [
    "### [B2] Qual é a distribuição do número de pedidos por cliente?"
   ]
  },
  {
   "cell_type": "code",
   "execution_count": 44,
   "id": "d8c26c23",
   "metadata": {
    "id": "d8c26c23"
   },
   "outputs": [
    {
     "data": {
      "image/png": "[encoded data removed]",
      "text/plain": [
       "<Figure size 864x432 with 1 Axes>"
      ]
     },
     "metadata": {
      "needs_background": "light"
     },
     "output_type": "display_data"
    }
   ],
   "source": [
    "# Calculando o número de pedidos por cliente\n",
    "orders_per_customer = orders['user_id'].value_counts().sort_values()\n",
    "\n",
    "#Criando o gráfico\n",
    "plt.figure(figsize=(12, 6))\n",
    "plt.hist(orders_per_customer, bins=np.arange(1, orders_per_customer.max() + 2) - 0.5, edgecolor='black')\n",
    "plt.title('Distribuição do Número de Pedidos por Cliente')\n",
    "plt.xlabel('Número de Pedidos')\n",
    "plt.ylabel('Número de Clientes')\n",
    "plt.grid(axis='y', linestyle='--', alpha=0.7)\n",
    "\n",
    "plt.show()"
   ]
  },
  {
   "cell_type": "code",
   "execution_count": 45,
   "id": "00e69a66",
   "metadata": {
    "id": "00e69a66"
   },
   "outputs": [
    {
     "data": {
      "image/png": "[encoded data removed]",
      "text/plain": [
       "<Figure size 720x432 with 1 Axes>"
      ]
     },
     "metadata": {
      "needs_background": "light"
     },
     "output_type": "display_data"
    }
   ],
   "source": [
    "# Definindo as faixas de número de pedidos\n",
    "bins = [0, 5, 10, 20, orders_per_customer.max()]\n",
    "labels = ['1-5', '6-10', '11-20', '21+']\n",
    "\n",
    "# Classificando os usuários nessas faixas\n",
    "customer_order_ranges = pd.cut(orders_per_customer, bins, labels=labels)\n",
    "\n",
    "# Contando quantos usuários estão em cada faixa\n",
    "order_range_counts = customer_order_ranges.value_counts().sort_index()\n",
    "\n",
    "#Criando o gráfico\n",
    "plt.figure(figsize=(10, 6))\n",
    "order_range_counts.plot(kind='bar', color='skyblue', edgecolor='black')\n",
    "plt.title('Número de Clientes por Faixa de Número de Pedidos')\n",
    "plt.xlabel('Número de Pedidos')\n",
    "plt.ylabel('Número de Clientes')\n",
    "plt.xticks(rotation=45)\n",
    "plt.grid(axis='y', linestyle='--', alpha=0.7)\n",
    "plt.show()"
   ]
  },
  {
   "cell_type": "markdown",
   "id": "d2eff7d5",
   "metadata": {
    "id": "d2eff7d5"
   },
   "source": [
    "Escreva suas conclusões aqui\n",
    "\n",
    "<i style=\"color:darkblue;\">A maioria dos clientes fez apenas 1 ou 2 pedidos, enquanto o número de clientes diminui à medida que o número de pedidos aumenta. Isso sugere que há um pico de clientes nos primeiros pedidos e que poucos fazem mais pedidos.</i>"
   ]
  },
  {
   "cell_type": "markdown",
   "id": "54a0319c",
   "metadata": {
    "id": "54a0319c"
   },
   "source": [
    "### [B3] Quais são os 20 produtos mais populares? Exiba os IDs e nomes."
   ]
  },
  {
   "cell_type": "code",
   "execution_count": 46,
   "id": "exterior-arizona",
   "metadata": {
    "id": "exterior-arizona",
    "scrolled": true
   },
   "outputs": [],
   "source": [
    "# Obtendo os 20 produtos mais populares\n",
    "top_products = order_products['product_id'].value_counts().head(20)"
   ]
  },
  {
   "cell_type": "code",
   "execution_count": 47,
   "id": "universal-facial",
   "metadata": {
    "id": "universal-facial"
   },
   "outputs": [],
   "source": [
    "# Mapeando IDs e nomes de produtos\n",
    "products['product_info'] = products['product_id'].astype(str) + ' - ' + products['product_name']\n",
    "product_names = products.set_index('product_id')['product_info'].to_dict()\n",
    "top_products_with_names = top_products.rename(product_names)"
   ]
  },
  {
   "cell_type": "code",
   "execution_count": 48,
   "id": "bbcdd20b",
   "metadata": {
    "id": "bbcdd20b"
   },
   "outputs": [
    {
     "data": {
      "image/png": "[encoded data removed]",
      "text/plain": [
       "<Figure size 864x432 with 1 Axes>"
      ]
     },
     "metadata": {
      "needs_background": "light"
     },
     "output_type": "display_data"
    }
   ],
   "source": [
    "# Criando o gráfico\n",
    "top_products_with_names.plot(\n",
    "    kind='bar',\n",
    "    figsize=(12, 6),\n",
    "    title='Top 20 Produtos Mais Populares',\n",
    "    xlabel='ID e Nome do Produto',\n",
    "    ylabel='Quantidade de Pedidos')\n",
    "plt.xticks(rotation=45, ha='right')\n",
    "\n",
    "plt.show()"
   ]
  },
  {
   "cell_type": "markdown",
   "id": "7df00f47",
   "metadata": {
    "id": "7df00f47"
   },
   "source": [
    "Escreva suas conclusões aqui\n",
    "\n",
    "<i style=\"color:darkblue;\">No gráfico acima, os produtos representam os itens mais populares entre os clientes, com as bananas e produtos orgânicos liderando em número de pedidos. Essas informações são valiosas para perceber melhor o comportamento de compra dos consumidores e orientar estratégias de estoque e promoções.</i>"
   ]
  },
  {
   "cell_type": "markdown",
   "id": "gross-theme",
   "metadata": {
    "id": "gross-theme"
   },
   "source": [
    "# [C] Difícil (é necessário concluir pelo menos duas perguntas para passar)\n",
    "\n",
    "1.\tQuantos itens as pessoas normalmente compram em um pedido? Como fica a distribuição?\n",
    "2.\tQuais são os 20 principais itens incluídos mais frequentemente em pedidos repetidos? Exiba os IDs e nomes.\n",
    "3.\tPara cada produto, qual parcela de seus pedidos são repetidos? Crie uma tabela com colunas de ID e nome do produto e a proporção de pedidos repetidos.\n",
    "4.\tPara cada cliente, qual proporção de todos os seus pedidos são repetidos?\n",
    "5.\tQuais são os 20 principais itens que as pessoas colocam nos carrinhos antes de todos os outros? Exiba o ID do produto, nome e o número de vezes que ele foi o primeiro a ser adicionado a um carrinho.\n"
   ]
  },
  {
   "cell_type": "markdown",
   "id": "romantic-deposit",
   "metadata": {
    "id": "romantic-deposit"
   },
   "source": [
    "### [C1] Quantos itens as pessoas normalmente compram em um pedido? Como fica a distribuição?"
   ]
  },
  {
   "cell_type": "code",
   "execution_count": 49,
   "id": "virtual-punch",
   "metadata": {
    "id": "virtual-punch"
   },
   "outputs": [],
   "source": [
    "# Quantidade de produtos distintos em cada pedido\n",
    "products_per_order = order_products.groupby('order_id')['product_id'].count()"
   ]
  },
  {
   "cell_type": "code",
   "execution_count": 50,
   "id": "sensitive-breathing",
   "metadata": {
    "id": "sensitive-breathing"
   },
   "outputs": [
    {
     "data": {
      "image/png": "[encoded data removed]",
      "text/plain": [
       "<Figure size 864x432 with 1 Axes>"
      ]
     },
     "metadata": {
      "needs_background": "light"
     },
     "output_type": "display_data"
    }
   ],
   "source": [
    "# Criando o gráfico\n",
    "products_per_order.plot(\n",
    "    kind='hist',\n",
    "    bins=50,\n",
    "    edgecolor='black',\n",
    "    figsize=(12, 6),\n",
    "    title='Distribuição da Quantidade de Produtos por Pedido',\n",
    "    alpha=0.7)\n",
    "plt.xlabel('Número de Produtos por Pedido')\n",
    "plt.ylabel('Número de Pedidos')\n",
    "\n",
    "plt.show()"
   ]
  },
  {
   "cell_type": "markdown",
   "id": "designed-mortality",
   "metadata": {
    "id": "designed-mortality"
   },
   "source": [
    "Escreva suas conclusões aqui\n",
    "\n",
    "<i style=\"color:darkblue;\">A maioria dos clientes compra entre 1 e 15 produtos por pedido, com o pico em torno de 5 produtos. Isso sugere que os clientes geralmente fazem compras pequenas a médias. A distribuição é assimétrica à direita, indicando que pedidos maiores são menos frequentes.</i>"
   ]
  },
  {
   "cell_type": "markdown",
   "id": "5e6b5537",
   "metadata": {
    "id": "5e6b5537"
   },
   "source": [
    "### [C2] Quais são os 20 principais itens incluídos mais frequentemente em pedidos repetidos? Exiba os IDs e nomes."
   ]
  },
  {
   "cell_type": "code",
   "execution_count": 51,
   "id": "9374e55a",
   "metadata": {
    "id": "9374e55a"
   },
   "outputs": [],
   "source": [
    "# Calculando os 20 principais itens incluídos mais frequentemente em pedidos repetidos\n",
    "repeated_products = order_products[order_products['reordered'] == 1]['product_id'].value_counts().head(20)"
   ]
  },
  {
   "cell_type": "code",
   "execution_count": 80,
   "id": "possible-change",
   "metadata": {
    "id": "possible-change",
    "scrolled": true
   },
   "outputs": [],
   "source": [
    "# Juntando com a tabela de produtos para obter os IDs e nomes dos produtos e criando uma nova coluna com a informação desejada\n",
    "top_repeated_products_info = pd.merge(repeated_products, products[['product_id', 'product_name']], left_index=True, right_on='product_id').sort_values(by='product_id', ascending=False)\n",
    "top_repeated_products_info['product_info'] = top_repeated_products_info['product_id'].astype(str) + ' - ' + top_repeated_products_info['product_name']"
   ]
  },
  {
   "cell_type": "code",
   "execution_count": 53,
   "id": "professional-surfing",
   "metadata": {
    "id": "professional-surfing",
    "scrolled": false
   },
   "outputs": [
    {
     "data": {
      "image/png": "[encoded data removed]",
      "text/plain": [
       "<Figure size 864x432 with 1 Axes>"
      ]
     },
     "metadata": {
      "needs_background": "light"
     },
     "output_type": "display_data"
    }
   ],
   "source": [
    "# Criando o gráfico\n",
    "top_repeated_products_info.plot(\n",
    "    kind='bar',\n",
    "    x='product_info',\n",
    "    y='product_id',\n",
    "    legend=False,\n",
    "    figsize=(12, 6),\n",
    "    title='Top 20 Itens Mais Frequentemente Incluídos em Pedidos Repetidos',\n",
    "    xlabel='ID e Nome do Produto',\n",
    "    ylabel='Número de Pedidos Repetidos')\n",
    "plt.xticks(rotation=45, ha='right')\n",
    "\n",
    "plt.show()"
   ]
  },
  {
   "cell_type": "markdown",
   "id": "80e70c74",
   "metadata": {
    "id": "80e70c74"
   },
   "source": [
    "Escreva suas conclusões aqui\n",
    "\n",
    "<i style=\"color:darkblue;\">Os 20 produtos mais frequentemente incluídos em pedidos repetidos revelam preferências populares, liderados por itens como `bananas`, `morangos` e `abacates`. Essas informações são cruciais para estratégias de estoque e marketing, proporcionando uma compreensão valiosa das escolhas recorrentes dos clientes.</i>"
   ]
  },
  {
   "cell_type": "markdown",
   "id": "9d312b14",
   "metadata": {
    "id": "9d312b14"
   },
   "source": [
    "### [C3] Para cada produto, qual parcela de todos os pedidos dele são repetidos?"
   ]
  },
  {
   "cell_type": "code",
   "execution_count": 54,
   "id": "8ae9f4b1",
   "metadata": {
    "id": "8ae9f4b1"
   },
   "outputs": [],
   "source": [
    "# Juntando 'order_products' com 'products' para obter o nome e o ID de cada produto\n",
    "merged_df = pd.merge(order_products, products[['product_id', 'product_name']], on='product_id')"
   ]
  },
  {
   "cell_type": "code",
   "execution_count": 55,
   "id": "103e7fe1",
   "metadata": {
    "id": "103e7fe1"
   },
   "outputs": [],
   "source": [
    "# Calculando a proporção de pedidos repetidos para cada produto\n",
    "proportion_repeated = merged_df.groupby(['product_id', 'product_name'])['reordered'].mean().reset_index()"
   ]
  },
  {
   "cell_type": "code",
   "execution_count": 56,
   "id": "social-individual",
   "metadata": {
    "id": "social-individual"
   },
   "outputs": [
    {
     "name": "stdout",
     "output_type": "stream",
     "text": [
      "       product_id                                       product_name  \\\n",
      "0               1                         Chocolate Sandwich Cookies   \n",
      "1               2                                   All-Seasons Salt   \n",
      "2               3               Robust Golden Unsweetened Oolong Tea   \n",
      "3               4  Smart Ones Classic Favorites Mini Rigatoni Wit...   \n",
      "4               7                     Pure Coconut Water With Orange   \n",
      "...           ...                                                ...   \n",
      "45568       49690                      HIGH PERFORMANCE ENERGY DRINK   \n",
      "45569       49691                      ORIGINAL PANCAKE & WAFFLE MIX   \n",
      "45570       49692    ORGANIC INSTANT OATMEAL LIGHT MAPLE BROWN SUGAR   \n",
      "45571       49693                             SPRING WATER BODY WASH   \n",
      "45572       49694                            BURRITO- STEAK & CHEESE   \n",
      "\n",
      "       reordered  \n",
      "0       0.564286  \n",
      "1       0.000000  \n",
      "2       0.738095  \n",
      "3       0.510204  \n",
      "4       0.500000  \n",
      "...          ...  \n",
      "45568   0.800000  \n",
      "45569   0.430556  \n",
      "45570   0.416667  \n",
      "45571   0.440000  \n",
      "45572   0.333333  \n",
      "\n",
      "[45573 rows x 3 columns]\n"
     ]
    }
   ],
   "source": [
    "print(proportion_repeated)"
   ]
  },
  {
   "cell_type": "markdown",
   "id": "I10dEIAyldcO",
   "metadata": {
    "id": "I10dEIAyldcO"
   },
   "source": [
    "Escreva suas conclusões aqui\n",
    "\n",
    "<i style=\"color:darkblue;\">Ao agrupar os dados por departamento em vez de produtos individuais, ganhamos uma visão mais abrangente e gerenciável da proporção de pedidos repetidos. Isso facilita a interpretação, pois categorizar por departamento reduz a complexidade do gráfico, destacando tendências gerais. Além disso, departamentos representam categorias amplas, o que pode ser mais útil para análises de padrões de repetição em uma escala mais macro, proporcionando insights valiosos para estratégias de recompra e marketing.</i>"
   ]
  },
  {
   "cell_type": "markdown",
   "id": "subject-boxing",
   "metadata": {
    "id": "subject-boxing"
   },
   "source": [
    "### [C4] Para cada cliente, qual proporção de todos os seus pedidos são repetidos?"
   ]
  },
  {
   "cell_type": "code",
   "execution_count": 67,
   "id": "medical-couple",
   "metadata": {
    "id": "medical-couple",
    "scrolled": true
   },
   "outputs": [],
   "source": [
    "# Mesclar 'order_products' com 'orders' para obter 'user_id'\n",
    "order_products = pd.merge(order_products, orders[['order_id', 'user_id']], on='order_id', how='left')\n",
    "\n",
    "# Calcular a proporção de pedidos repetidos para cada cliente\n",
    "repeated_order_ratio = order_products.groupby('user_id')['reordered'].mean().fillna(0)"
   ]
  },
  {
   "cell_type": "code",
   "execution_count": 68,
   "id": "8892e4b4",
   "metadata": {
    "id": "8892e4b4"
   },
   "outputs": [
    {
     "name": "stdout",
     "output_type": "stream",
     "text": [
      "user_id\n",
      "2         0.038462\n",
      "4         0.000000\n",
      "5         0.666667\n",
      "6         0.000000\n",
      "7         0.928571\n",
      "            ...   \n",
      "206203    0.222222\n",
      "206206    0.714286\n",
      "206207    0.891304\n",
      "206208    0.696000\n",
      "206209    0.320000\n",
      "Name: reordered, Length: 149626, dtype: float64\n"
     ]
    }
   ],
   "source": [
    "print(repeated_order_ratio)"
   ]
  },
  {
   "cell_type": "markdown",
   "id": "BgJSvXDsleXz",
   "metadata": {
    "id": "BgJSvXDsleXz"
   },
   "source": [
    "Escreva suas conclusões aqui\n",
    "\n",
    "<i style=\"color:darkblue;\">A distribuição da proporção de pedidos repetidos por cliente mostra que a maioria dos clientes tem uma taxa baixa de repetição, indicando que a maioria faz pedidos variados. No entanto, alguns clientes têm uma alta taxa de repetição, sugerindo uma preferência consistente por certos produtos.</i>"
   ]
  },
  {
   "cell_type": "markdown",
   "id": "92d35137",
   "metadata": {
    "id": "92d35137"
   },
   "source": [
    "### [C5] Quais são os 20 principais itens que as pessoas colocam nos carrinhos antes de todos os outros?"
   ]
  },
  {
   "cell_type": "code",
   "execution_count": 74,
   "id": "0ae57274",
   "metadata": {
    "id": "0ae57274",
    "scrolled": true
   },
   "outputs": [],
   "source": [
    "# Contar a quantidade de vezes que cada produto é adicionado como primeiro ao carrinho\n",
    "first_to_cart_counts = order_products[order_products['add_to_cart_order'] == 1]['product_id'].value_counts().head(20)\n",
    "\n",
    "# Juntar com a tabela de produtos para obter IDs e nomes dos produtos\n",
    "top_first_to_cart_info = pd.merge(first_to_cart_counts, products[['product_id', 'product_name']], left_index=True, right_on='product_id').sort_values(by='product_id', ascending=False)"
   ]
  },
  {
   "cell_type": "code",
   "execution_count": 75,
   "id": "forty-netherlands",
   "metadata": {
    "id": "forty-netherlands",
    "scrolled": false
   },
   "outputs": [
    {
     "name": "stdout",
     "output_type": "stream",
     "text": [
      "       product_id  product_id_x  product_id_y                 product_name\n",
      "49234       49235          1797         49235          Organic Half & Half\n",
      "47765       47766          3044         47766              Organic Avocado\n",
      "47625       47626          1737         47626                  Large Lemon\n",
      "47208       47209          3390         47209         Organic Hass Avocado\n",
      "44631       44632          1914         44632   Sparkling Water Grapefruit\n",
      "38688       38689          1397         38689     Organic Reduced Fat Milk\n",
      "27965       27966          2024         27966          Organic Raspberries\n",
      "27844       27845          4363         27845           Organic Whole Milk\n",
      "27085       27086          1309         27086                  Half & Half\n",
      "26208       26209          1370         26209                        Limes\n",
      "24851       24852         15562         24852                       Banana\n",
      "22934       22935          1246         22935         Organic Yellow Onion\n",
      "21902       21903          3336         21903         Organic Baby Spinach\n",
      "21136       21137          3946         21137         Organic Strawberries\n",
      "19659       19660          2336         19660                 Spring Water\n",
      "16796       16797          2308         16797                 Strawberries\n",
      "13175       13176         11026         13176       Bag of Organic Bananas\n",
      "12340       12341          1340         12341                Hass Avocados\n",
      "5784         5785          1310          5785  Organic Reduced Fat 2% Milk\n",
      "195           196          1733           196                         Soda\n"
     ]
    }
   ],
   "source": [
    "print(top_first_to_cart_info)"
   ]
  },
  {
   "cell_type": "code",
   "execution_count": 76,
   "id": "08e41ec2",
   "metadata": {
    "id": "08e41ec2"
   },
   "outputs": [
    {
     "data": {
      "image/png": "[encoded data removed]",
      "text/plain": [
       "<Figure size 864x432 with 1 Axes>"
      ]
     },
     "metadata": {
      "needs_background": "light"
     },
     "output_type": "display_data"
    }
   ],
   "source": [
    "# Criando o gráfico\n",
    "top_first_to_cart_info.plot(kind='bar', x='product_name', y='product_id', legend=False, figsize=(12, 6))\n",
    "plt.title('Top 20 Itens Mais Frequentemente Adicionados Primeiro ao Carrinho')\n",
    "plt.xlabel('Nome do Produto')\n",
    "plt.ylabel('Número de Vezes Adicionado Primeiro ao Carrinho')\n",
    "plt.xticks(rotation=45, ha='right')\n",
    "\n",
    "plt.show()"
   ]
  },
  {
   "cell_type": "markdown",
   "id": "28ce9872",
   "metadata": {
    "id": "28ce9872"
   },
   "source": [
    "Escreva suas conclusões aqui\n",
    "\n",
    "<i style=\"color:darkblue;\">Os 20 principais itens que as pessoas colocam nos carrinhos antes de todos os outros incluem produtos comumente consumidos, como bananas, bagas orgânicas, leite orgânico e abacates. Bebidas, como água com gás e soda, também estão presentes. O padrão reflete preferências por produtos frescos, laticínios orgânicos e opções de bebidas, indicando escolhas saudáveis e práticas para os consumidores.</i>"
   ]
  },
  {
   "cell_type": "markdown",
   "id": "TisH_5Cp3wAi",
   "metadata": {
    "id": "TisH_5Cp3wAi"
   },
   "source": [
    "# Conclusão geral do projeto:"
   ]
  },
  {
   "cell_type": "markdown",
   "id": "47191a85",
   "metadata": {
    "id": "Nk-4GS7mDwqY"
   },
   "source": [
    "<i style=\"color:darkblue;\">Este projeto ofereceu uma visão abrangente do comportamento dos consumidores, padrões de compra e preferências de produtos em um supermercado online. As conclusões extraídas podem ser fundamentais para estratégias de negócios, desde a gestão de estoques até campanhas de marketing direcionadas.</i>"
   ]
  }
 ],
 "metadata": {
  "colab": {
   "provenance": []
  },
  "kernelspec": {
   "display_name": "Python 3 (ipykernel)",
   "language": "python",
   "name": "python3"
  },
  "language_info": {
   "codemirror_mode": {
    "name": "ipython",
    "version": 3
   },
   "file_extension": ".py",
   "mimetype": "text/x-python",
   "name": "python",
   "nbconvert_exporter": "python",
   "pygments_lexer": "ipython3",
   "version": "3.9.19"
  },
  "toc": {
   "base_numbering": 1,
   "nav_menu": {},
   "number_sections": true,
   "sideBar": true,
   "skip_h1_title": true,
   "title_cell": "Table of Contents",
   "title_sidebar": "Contents",
   "toc_cell": false,
   "toc_position": {},
   "toc_section_display": true,
   "toc_window_display": false
  },
  "vscode": {
   "interpreter": {
    "hash": "01a7be9ec63e704a62cefc5fe7a4756944464ee731be31632bdf42a4cb4688cf"
   }
  }
 },
 "nbformat": 4,
 "nbformat_minor": 5
}
